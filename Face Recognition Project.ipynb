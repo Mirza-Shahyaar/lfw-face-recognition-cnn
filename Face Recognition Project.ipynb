{
 "cells": [
  {
   "cell_type": "markdown",
   "id": "dc43dfb0-505c-46f9-ba96-b9c86320e594",
   "metadata": {
    "jp-MarkdownHeadingCollapsed": true
   },
   "source": [
    "### Data Loading and Preparation"
   ]
  },
  {
   "cell_type": "code",
   "execution_count": 3,
   "id": "0a70d341-9f33-44c6-8045-297f8188fe41",
   "metadata": {},
   "outputs": [
    {
     "name": "stdout",
     "output_type": "stream",
     "text": [
      "Found 12161 images belonging to 5749 classes.\n",
      "Found 1072 images belonging to 5749 classes.\n"
     ]
    }
   ],
   "source": [
    "import tensorflow as tf\n",
    "from tensorflow.keras.preprocessing.image import ImageDataGenerator\n",
    "\n",
    "data_dir = r\"C:\\Users\\MIRZA SHAHYAAR\\Downloads\\Face Recognition\\lfw_funneled\"\n",
    "\n",
    "datagen = ImageDataGenerator(\n",
    "    rescale=1./255,\n",
    "    validation_split=0.2,  \n",
    "    horizontal_flip=True,  \n",
    "    zoom_range=0.2\n",
    ")\n",
    "\n",
    "train_generator = datagen.flow_from_directory(\n",
    "    data_dir,\n",
    "    target_size=(128, 128),\n",
    "    batch_size=32,\n",
    "    class_mode='categorical',\n",
    "    subset='training'\n",
    ")\n",
    "\n",
    "val_generator = datagen.flow_from_directory(\n",
    "    data_dir,\n",
    "    target_size=(128, 128),\n",
    "    batch_size=32,\n",
    "    class_mode='categorical',\n",
    "    subset='validation'\n",
    ")"
   ]
  },
  {
   "cell_type": "markdown",
   "id": "55ccb693-e992-4e53-9013-bef131aad211",
   "metadata": {
    "jp-MarkdownHeadingCollapsed": true
   },
   "source": [
    "### Model Architecture Design"
   ]
  },
  {
   "cell_type": "code",
   "execution_count": 4,
   "id": "511ec219-c386-407e-9de8-a89c64da4141",
   "metadata": {},
   "outputs": [],
   "source": [
    "from tensorflow.keras.applications import MobileNetV2\n",
    "from tensorflow.keras.layers import Dense, GlobalAveragePooling2D\n",
    "from tensorflow.keras.models import Model\n",
    "\n",
    "base_model = MobileNetV2(weights='imagenet', include_top=False, input_shape=(128,128,3))\n",
    "\n",
    "x = base_model.output\n",
    "x = GlobalAveragePooling2D()(x)\n",
    "predictions = Dense(train_generator.num_classes, activation='softmax')(x)\n",
    "\n",
    "model = Model(inputs=base_model.input, outputs=predictions)\n",
    "\n",
    "for layer in base_model.layers:\n",
    "    layer.trainable = False\n",
    "\n",
    "model.compile(optimizer='adam', loss='categorical_crossentropy', metrics=['accuracy'])\n"
   ]
  },
  {
   "cell_type": "markdown",
   "id": "a839de76-15c8-4f36-ac08-29e9533718ad",
   "metadata": {
    "jp-MarkdownHeadingCollapsed": true
   },
   "source": [
    "### Model Training and Validation"
   ]
  },
  {
   "cell_type": "code",
   "execution_count": 5,
   "id": "5f0893dd-ee40-4da3-a8d6-fe94ed060319",
   "metadata": {},
   "outputs": [
    {
     "name": "stdout",
     "output_type": "stream",
     "text": [
      "Epoch 1/10\n",
      "381/381 [==============================] - 235s 603ms/step - loss: 9.0298 - accuracy: 0.0658 - val_loss: 4.5987 - val_accuracy: 0.2220\n",
      "Epoch 2/10\n",
      "381/381 [==============================] - 233s 611ms/step - loss: 2.6568 - accuracy: 0.4953 - val_loss: 4.3943 - val_accuracy: 0.2379\n",
      "Epoch 3/10\n",
      "381/381 [==============================] - 233s 611ms/step - loss: 1.3899 - accuracy: 0.7154 - val_loss: 4.3557 - val_accuracy: 0.2416\n",
      "Epoch 4/10\n",
      "381/381 [==============================] - 231s 606ms/step - loss: 0.9416 - accuracy: 0.8003 - val_loss: 4.0803 - val_accuracy: 0.2920\n",
      "Epoch 5/10\n",
      "381/381 [==============================] - 233s 610ms/step - loss: 0.7062 - accuracy: 0.8508 - val_loss: 3.8647 - val_accuracy: 0.3321\n",
      "Epoch 6/10\n",
      "381/381 [==============================] - 236s 620ms/step - loss: 0.5624 - accuracy: 0.8797 - val_loss: 3.9190 - val_accuracy: 0.3153\n",
      "Epoch 7/10\n",
      "381/381 [==============================] - 231s 607ms/step - loss: 0.4547 - accuracy: 0.9070 - val_loss: 3.9763 - val_accuracy: 0.3358\n",
      "Epoch 8/10\n",
      "381/381 [==============================] - 236s 619ms/step - loss: 0.3725 - accuracy: 0.9228 - val_loss: 3.9246 - val_accuracy: 0.3116\n",
      "Epoch 9/10\n",
      "381/381 [==============================] - 235s 617ms/step - loss: 0.3207 - accuracy: 0.9347 - val_loss: 4.0093 - val_accuracy: 0.3461\n",
      "Epoch 10/10\n",
      "381/381 [==============================] - 234s 613ms/step - loss: 0.2732 - accuracy: 0.9429 - val_loss: 3.9230 - val_accuracy: 0.3619\n"
     ]
    }
   ],
   "source": [
    "history = model.fit(\n",
    "    train_generator,\n",
    "    validation_data=val_generator,\n",
    "    epochs=10,\n",
    "    verbose=1\n",
    ")"
   ]
  },
  {
   "cell_type": "code",
   "execution_count": 6,
   "id": "7753c718-bc77-40c0-a1c5-60411182ee2a",
   "metadata": {},
   "outputs": [
    {
     "name": "stdout",
     "output_type": "stream",
     "text": [
      "34/34 [==============================] - 19s 541ms/step - loss: 3.8965 - accuracy: 0.3582\n",
      "Validation Accuracy: 35.82%\n"
     ]
    }
   ],
   "source": [
    "val_loss, val_acc = model.evaluate(val_generator)\n",
    "print(f\"Validation Accuracy: {val_acc*100:.2f}%\")\n",
    "model.save(\"face_recognition_model.h5\")"
   ]
  },
  {
   "cell_type": "markdown",
   "id": "66e932e7-a0e8-4927-9cd7-d8dd015f94cd",
   "metadata": {
    "jp-MarkdownHeadingCollapsed": true
   },
   "source": [
    "### Performance Evaluation and Visualization"
   ]
  },
  {
   "cell_type": "code",
   "execution_count": 8,
   "id": "41a1edd3-8316-4c5c-be09-03a42860f438",
   "metadata": {},
   "outputs": [
    {
     "name": "stdout",
     "output_type": "stream",
     "text": [
      "34/34 [==============================] - 18s 517ms/step - loss: 3.9812 - accuracy: 0.3629\n",
      "Validation Loss: 3.9812\n",
      "Validation Accuracy: 0.3629\n"
     ]
    }
   ],
   "source": [
    "val_loss, val_accuracy = model.evaluate(val_generator, verbose=1)\n",
    "print(f\"Validation Loss: {val_loss:.4f}\")\n",
    "print(f\"Validation Accuracy: {val_accuracy:.4f}\")"
   ]
  },
  {
   "cell_type": "code",
   "execution_count": 9,
   "id": "adf054f8-dcf5-4fa4-9447-81647e1d1e50",
   "metadata": {
    "scrolled": true
   },
   "outputs": [
    {
     "data": {
      "image/png": "[encoded data removed]",
      "text/plain": [
       "<Figure size 800x400 with 1 Axes>"
      ]
     },
     "metadata": {},
     "output_type": "display_data"
    },
    {
     "data": {
      "image/png": "[encoded data removed]",
      "text/plain": [
       "<Figure size 800x400 with 1 Axes>"
      ]
     },
     "metadata": {},
     "output_type": "display_data"
    }
   ],
   "source": [
    "import matplotlib.pyplot as plt\n",
    "\n",
    "plt.figure(figsize=(8,4))\n",
    "plt.plot(history.history['accuracy'], label='Train Accuracy')\n",
    "plt.plot(history.history['val_accuracy'], label='Validation Accuracy')\n",
    "plt.legend()\n",
    "plt.title(\"Model Accuracy\")\n",
    "plt.xlabel(\"Epoch\")\n",
    "plt.ylabel(\"Accuracy\")\n",
    "plt.show()\n",
    "\n",
    "plt.figure(figsize=(8,4))\n",
    "plt.plot(history.history['loss'], label='Train Loss')\n",
    "plt.plot(history.history['val_loss'], label='Validation Loss')\n",
    "plt.legend()\n",
    "plt.title(\"Model Loss\")\n",
    "plt.xlabel(\"Epoch\")\n",
    "plt.ylabel(\"Loss\")\n",
    "plt.show()\n"
   ]
  },
  {
   "cell_type": "markdown",
   "id": "c3d6c413-b4a3-42a9-ae11-ca4be4967c12",
   "metadata": {
    "jp-MarkdownHeadingCollapsed": true
   },
   "source": [
    "### Prediction on New Images"
   ]
  },
  {
   "cell_type": "code",
   "execution_count": 13,
   "id": "b3d0ece9-4702-4fd9-96d6-86b32cf8d2cf",
   "metadata": {},
   "outputs": [
    {
     "name": "stdout",
     "output_type": "stream",
     "text": [
      "1/1 [==============================] - 2s 2s/step\n",
      "Raw prediction: [[5.1419169e-10 1.1230765e-09 5.8549065e-14 ... 9.2774911e-08\n",
      "  1.5632074e-12 3.5806396e-09]]\n"
     ]
    }
   ],
   "source": [
    "from tensorflow.keras.preprocessing import image\n",
    "import numpy as np\n",
    "\n",
    "img_path = r\"C:\\Users\\MIRZA SHAHYAAR\\Downloads\\Face Recognition\\lfw_funneled\\Abdoulaye_Wade\\Abdoulaye_Wade_0003.jpg\"\n",
    "\n",
    "img = image.load_img(img_path, target_size=(128, 128))\n",
    "img_array = image.img_to_array(img)\n",
    "img_array = np.expand_dims(img_array, axis=0) / 255.0  \n",
    "\n",
    "prediction = model.predict(img_array)\n",
    "print(\"Raw prediction:\", prediction)\n"
   ]
  },
  {
   "cell_type": "code",
   "execution_count": 14,
   "id": "9bb4a5f2-2c5f-4096-a847-8fe402aba518",
   "metadata": {},
   "outputs": [
    {
     "name": "stdout",
     "output_type": "stream",
     "text": [
      "Predicted class index: [14]\n"
     ]
    }
   ],
   "source": [
    "predicted_class = np.argmax(prediction, axis=1)\n",
    "print(\"Predicted class index:\", predicted_class)"
   ]
  },
  {
   "cell_type": "code",
   "execution_count": 16,
   "id": "0c44ac3a-3bab-492b-b15c-19e36d3d505b",
   "metadata": {},
   "outputs": [
    {
     "name": "stdout",
     "output_type": "stream",
     "text": [
      "Predicted class index: 14\n",
      "Predicted class name: Abdoulaye_Wade\n"
     ]
    }
   ],
   "source": [
    "class_indices = train_generator.class_indices\n",
    "index_to_class = {v: k for k, v in class_indices.items()}\n",
    "\n",
    "predicted_class_idx = np.argmax(prediction, axis=1)[0]\n",
    "predicted_class_name = index_to_class[predicted_class_idx]\n",
    "\n",
    "print(f\"Predicted class index: {predicted_class_idx}\")\n",
    "print(f\"Predicted class name: {predicted_class_name}\")\n"
   ]
  },
  {
   "cell_type": "markdown",
   "id": "c95539e8-7931-4728-ac70-754c24860222",
   "metadata": {
    "jp-MarkdownHeadingCollapsed": true
   },
   "source": [
    "### Model Saving"
   ]
  },
  {
   "cell_type": "code",
   "execution_count": 17,
   "id": "fecbcba2-1a0d-48db-9db5-6f50b70269fd",
   "metadata": {},
   "outputs": [],
   "source": [
    "model.save(\"face_recognition_model.h5\")"
   ]
  }
 ],
 "metadata": {
  "kernelspec": {
   "display_name": "Python (tfenv)",
   "language": "python",
   "name": "tfenv"
  },
  "language_info": {
   "codemirror_mode": {
    "name": "ipython",
    "version": 3
   },
   "file_extension": ".py",
   "mimetype": "text/x-python",
   "name": "python",
   "nbconvert_exporter": "python",
   "pygments_lexer": "ipython3",
   "version": "3.9.23"
  }
 },
 "nbformat": 4,
 "nbformat_minor": 5
}
